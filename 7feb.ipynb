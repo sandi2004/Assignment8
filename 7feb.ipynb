{
 "cells": [
  {
   "cell_type": "code",
   "execution_count": 2,
   "id": "7e512d56-f835-4ad2-b8e2-795d36b8e3fb",
   "metadata": {},
   "outputs": [],
   "source": [
    "#Ans1="
   ]
  },
  {
   "cell_type": "code",
   "execution_count": 3,
   "id": "9960dff6-ef0e-4c83-afa5-7f2ad0bf74c4",
   "metadata": {},
   "outputs": [
    {
     "name": "stdin",
     "output_type": "stream",
     "text": [
      "Input your password S@nDe007$#\n"
     ]
    },
    {
     "name": "stdout",
     "output_type": "stream",
     "text": [
      "Valid Password\n"
     ]
    }
   ],
   "source": [
    "import re\n",
    "p= input(\"Input your password\")\n",
    "x = True\n",
    "while x:  \n",
    "    if (len(p)<10 or len(p)>10):\n",
    "        break\n",
    "    elif not re.search(\"[a-z]\",p):\n",
    "        break\n",
    "    elif not re.search(\"[0-9]\",p):\n",
    "        break\n",
    "    elif not re.search(\"[A-Z]\",p):\n",
    "        break\n",
    "    elif not re.search(\"[$#@]\",p):\n",
    "        break\n",
    "    elif re.search(\"\\s\",p):\n",
    "        break\n",
    "    else:\n",
    "        print(\"Valid Password\")\n",
    "        x=False\n",
    "        break\n",
    "\n",
    "if x:\n",
    "    print(\"Not a Valid Password\")\n"
   ]
  },
  {
   "cell_type": "code",
   "execution_count": 4,
   "id": "30d24d1a-e73d-424d-8c58-5c4f2621f2be",
   "metadata": {},
   "outputs": [],
   "source": [
    "#Ans no=2"
   ]
  },
  {
   "cell_type": "code",
   "execution_count": 5,
   "id": "8021174b-5252-4533-a31d-6b8cff9ebf94",
   "metadata": {},
   "outputs": [],
   "source": [
    "#part 1="
   ]
  },
  {
   "cell_type": "code",
   "execution_count": 6,
   "id": "ba064d0b-3733-4ac3-9a39-8ace0bfb4d15",
   "metadata": {},
   "outputs": [
    {
     "name": "stdout",
     "output_type": "stream",
     "text": [
      "True\n",
      "False\n"
     ]
    }
   ],
   "source": [
    "starts_with = lambda x: True if x.startswith('P') else False\n",
    "print(starts_with('Python'))\n",
    "starts_with = lambda x: True if x.startswith('P') else False\n",
    "print(starts_with('Java'))\n"
   ]
  },
  {
   "cell_type": "code",
   "execution_count": 7,
   "id": "a919deed-4461-4904-85e5-3ba49345f1b4",
   "metadata": {},
   "outputs": [],
   "source": [
    "#Ans=Part2="
   ]
  },
  {
   "cell_type": "code",
   "execution_count": 8,
   "id": "131e4896-471a-4f23-ae42-1928509a0c86",
   "metadata": {},
   "outputs": [
    {
     "name": "stdout",
     "output_type": "stream",
     "text": [
      "True\n",
      "True\n",
      "False\n",
      "True\n",
      "False\n",
      "True\n",
      "\n",
      "Print checking numbers:\n",
      "True\n",
      "True\n"
     ]
    }
   ],
   "source": [
    "is_num = lambda q: q.replace('.','',1).isdigit()\n",
    "print(is_num('26587'))\n",
    "print(is_num('4.2365'))\n",
    "print(is_num('-12547'))\n",
    "print(is_num('00'))\n",
    "print(is_num('A001'))\n",
    "print(is_num('001'))\n",
    "print(\"\\nPrint checking numbers:\")\n",
    "is_num1 = lambda r: is_num(r[1:]) if r[0]=='-' else is_num(r)\n",
    "print(is_num1('-16.4'))\n",
    "print(is_num1('-24587.11'))\n"
   ]
  },
  {
   "cell_type": "code",
   "execution_count": 9,
   "id": "642e50d3-09ca-47e2-9896-a24f6fa61750",
   "metadata": {},
   "outputs": [],
   "source": [
    "#Ans Part=3="
   ]
  },
  {
   "cell_type": "code",
   "execution_count": 10,
   "id": "b893029c-ac19-4497-81d5-b3e383963910",
   "metadata": {},
   "outputs": [
    {
     "name": "stdout",
     "output_type": "stream",
     "text": [
      "Original list of tuples:\n",
      "[('mango', 99), ('orange', 80), ('grapes', 1000)]\n",
      "\n",
      "Sorting the List of Tuples:\n",
      "[('orange', 80), ('mango', 99), ('grapes', 1000)]\n"
     ]
    }
   ],
   "source": [
    "subject_marks = [(\"mango\", 99), (\"orange\", 80), (\"grapes\", 1000)]\n",
    "print(\"Original list of tuples:\")\n",
    "print(subject_marks)\n",
    "subject_marks.sort(key = lambda x: x[1])\n",
    "print(\"\\nSorting the List of Tuples:\")\n",
    "print(subject_marks)\n"
   ]
  },
  {
   "cell_type": "code",
   "execution_count": 11,
   "id": "b7814693-c0d6-47f9-a3d5-5606354729d0",
   "metadata": {},
   "outputs": [],
   "source": [
    "#ans part4="
   ]
  },
  {
   "cell_type": "code",
   "execution_count": 12,
   "id": "df7486ce-65c7-4013-a4c2-197c2974c6fa",
   "metadata": {},
   "outputs": [
    {
     "name": "stdout",
     "output_type": "stream",
     "text": [
      "Original list of integers:\n",
      "[1, 2, 3, 4, 5, 6, 7, 8, 9, 10]\n",
      "\n",
      "Square every number of the said list:\n",
      "[1, 4, 9, 16, 25, 36, 49, 64, 81, 100]\n"
     ]
    }
   ],
   "source": [
    "nums = [1, 2, 3, 4, 5, 6, 7, 8, 9, 10]\n",
    "print(\"Original list of integers:\")\n",
    "print(nums)\n",
    "print(\"\\nSquare every number of the said list:\")\n",
    "square_nums = list(map(lambda x: x ** 2, nums))\n",
    "print(square_nums)\n",
    "\n"
   ]
  },
  {
   "cell_type": "code",
   "execution_count": 13,
   "id": "affcb177-b89f-45bc-994a-a506517614f4",
   "metadata": {},
   "outputs": [],
   "source": [
    "#part5=ans="
   ]
  },
  {
   "cell_type": "code",
   "execution_count": 14,
   "id": "e41aa099-46cb-439e-a511-32f11a14a182",
   "metadata": {},
   "outputs": [
    {
     "name": "stdout",
     "output_type": "stream",
     "text": [
      "\n",
      "Cube every number of the said list:\n",
      "[1, 8, 27, 64, 125, 216, 343, 512, 729, 1000]\n"
     ]
    }
   ],
   "source": [
    "nums = [1, 2, 3, 4, 5, 6, 7, 8, 9, 10]\n",
    "print(\"\\nCube every number of the said list:\")\n",
    "cube_nums = list(map(lambda x: x ** 3, nums))\n",
    "print(cube_nums)\n"
   ]
  },
  {
   "cell_type": "code",
   "execution_count": 15,
   "id": "fcc5e495-bde2-44d1-9384-fa594bf72d49",
   "metadata": {},
   "outputs": [],
   "source": [
    "#ans=part6="
   ]
  },
  {
   "cell_type": "code",
   "execution_count": 16,
   "id": "05d19860-3907-4814-8781-69fd04f78a2b",
   "metadata": {},
   "outputs": [
    {
     "name": "stdin",
     "output_type": "stream",
     "text": [
      "Enter a number >>  12\n"
     ]
    },
    {
     "name": "stdout",
     "output_type": "stream",
     "text": [
      "Even Number\n"
     ]
    }
   ],
   "source": [
    "number = int(input(\"Enter a number >> \"))\n",
    "odd_even = lambda : \"Even Number\" if number % 2 == 0 else \"Odd Number\"\n",
    "\n",
    "print(odd_even())\n",
    "\n"
   ]
  },
  {
   "cell_type": "code",
   "execution_count": 17,
   "id": "f06fa0bb-15b1-44cc-bd37-3087c0cc1ab4",
   "metadata": {},
   "outputs": [],
   "source": [
    "#Ans part7="
   ]
  },
  {
   "cell_type": "code",
   "execution_count": 18,
   "id": "3079c8cf-7cb8-49ff-b28e-cad7f58550f3",
   "metadata": {},
   "outputs": [
    {
     "name": "stdout",
     "output_type": "stream",
     "text": [
      "\n",
      "Even numbers from the said list:\n",
      "[2, 4, 6, 8, 10]\n",
      "\n",
      "Odd numbers from the said list:\n",
      "[1, 3, 5, 7, 9]\n"
     ]
    }
   ],
   "source": [
    "nums = [1, 2, 3, 4, 5, 6, 7, 8, 9, 10]\n",
    "\n",
    "print(\"\\nEven numbers from the said list:\")\n",
    "even_nums = list(filter(lambda x: x%2 == 0, nums))\n",
    "print(even_nums)\n",
    "print(\"\\nOdd numbers from the said list:\")\n",
    "odd_nums = list(filter(lambda x: x%2 != 0, nums))\n",
    "print(odd_nums)\n"
   ]
  },
  {
   "cell_type": "code",
   "execution_count": 19,
   "id": "a12e6829-b768-4d8b-a5dd-47b7f3eafbb7",
   "metadata": {},
   "outputs": [],
   "source": [
    "#ans=part=8="
   ]
  },
  {
   "cell_type": "code",
   "execution_count": 20,
   "id": "e3362038-ca09-4b37-a75b-a332c634a4f8",
   "metadata": {},
   "outputs": [
    {
     "name": "stdout",
     "output_type": "stream",
     "text": [
      "Original numbers in the list:  [1, 2, 3, 4, 5, 6, -1, -2, -3, -4, -5, 0]\n",
      "Positive numbers in the said list:  [1, 2, 3, 4, 5, 6]\n",
      "Negative number in the said list :  [-1, -2, -3, -4, -5]\n"
     ]
    }
   ],
   "source": [
    "nums = [1,2,3,4,5,6,-1,-2,-3,-4,-5,0]\n",
    "print(\"Original numbers in the list: \",nums)\n",
    "new_nums = list(filter(lambda x: x >0, nums))\n",
    "print(\"Positive numbers in the said list: \",new_nums)\n",
    "new_nums2 = list(filter(lambda x: x<0, nums))\n",
    "print(\"Negative number in the said list : \",new_nums2)\n"
   ]
  },
  {
   "cell_type": "code",
   "execution_count": 21,
   "id": "1aff94c0-fbd8-4858-afa0-73e0af55ffbf",
   "metadata": {},
   "outputs": [],
   "source": [
    "#THANKS"
   ]
  },
  {
   "cell_type": "code",
   "execution_count": null,
   "id": "9952301f-3955-48ac-8758-e3a72a7d22d4",
   "metadata": {},
   "outputs": [],
   "source": []
  }
 ],
 "metadata": {
  "kernelspec": {
   "display_name": "Python 3 (ipykernel)",
   "language": "python",
   "name": "python3"
  },
  "language_info": {
   "codemirror_mode": {
    "name": "ipython",
    "version": 3
   },
   "file_extension": ".py",
   "mimetype": "text/x-python",
   "name": "python",
   "nbconvert_exporter": "python",
   "pygments_lexer": "ipython3",
   "version": "3.10.8"
  }
 },
 "nbformat": 4,
 "nbformat_minor": 5
}
